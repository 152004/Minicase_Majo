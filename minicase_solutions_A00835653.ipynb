{
  "cells": [
    {
      "cell_type": "markdown",
      "metadata": {
        "id": "view-in-github",
        "colab_type": "text"
      },
      "source": [
        "<a href=\"https://colab.research.google.com/github/152004/Minicase_Majo/blob/main/minicase_solutions_A00835653.ipynb\" target=\"_parent\"><img src=\"https://colab.research.google.com/assets/colab-badge.svg\" alt=\"Open In Colab\"/></a>"
      ]
    },
    {
      "cell_type": "code",
      "execution_count": 1,
      "metadata": {
        "id": "HP1S_NVVaiOm",
        "outputId": "0bfb1486-9bf5-4e11-ae19-585adbbfdd4e",
        "colab": {
          "base_uri": "https://localhost:8080/"
        }
      },
      "outputs": [
        {
          "output_type": "stream",
          "name": "stdout",
          "text": [
            "Looking in indexes: https://pypi.org/simple, https://us-python.pkg.dev/colab-wheels/public/simple/\n",
            "Collecting pulp\n",
            "  Downloading PuLP-2.7.0-py3-none-any.whl (14.3 MB)\n",
            "\u001b[2K     \u001b[90m━━━━━━━━━━━━━━━━━━━━━━━━━━━━━━━━━━━━━━━━\u001b[0m \u001b[32m14.3/14.3 MB\u001b[0m \u001b[31m35.7 MB/s\u001b[0m eta \u001b[36m0:00:00\u001b[0m\n",
            "\u001b[?25hInstalling collected packages: pulp\n",
            "Successfully installed pulp-2.7.0\n"
          ]
        }
      ],
      "source": [
        "!pip install pulp"
      ]
    },
    {
      "cell_type": "code",
      "execution_count": 2,
      "metadata": {
        "id": "I0WguxbXaiOo"
      },
      "outputs": [],
      "source": [
        "from pulp import *"
      ]
    },
    {
      "cell_type": "markdown",
      "metadata": {
        "id": "7-W5g6ipaiOo"
      },
      "source": [
        "## Problem 1\n",
        "A company manufactures and sells two types of hydraulic pumps: 1) Normal and 2) Heavy-duty. The production process for the pumps consists of three activities: assembly, painting, and testing (quality control), with their respective times listed in the table below. The profit contribution from selling a normal pump is $50, while a heavy-duty pump yields a profit of $75. There are 4800 hours available per week for assembly, 1980 hours for painting, and 900 hours for quality testing. Based on past experiences, the company expects to sell 300 normal pumps and 180 heavy-duty pumps. The manager is interested in determining the quantity of pumps to manufacture weekly in order to maximize profits."
      ]
    },
    {
      "cell_type": "markdown",
      "metadata": {
        "id": "Yi_-_X6taiOp"
      },
      "source": [
        "|    Type     | Assembly Time | Painting Time | Testing Time |\n",
        "|-------------|---------------|---------------|--------------|\n",
        "|   Normal    |      3.6      |      1.6      |     0.6      |\n",
        "|   Heavy-duty |      4.8      |      1.8      |     0.6      |\n"
      ]
    },
    {
      "cell_type": "code",
      "execution_count": null,
      "metadata": {
        "id": "LHwtDkdSaiOp",
        "outputId": "bdcc1745-5c86-4534-ff3b-ef204d907f50",
        "colab": {
          "base_uri": "https://localhost:8080/"
        }
      },
      "outputs": [
        {
          "output_type": "stream",
          "name": "stdout",
          "text": [
            "Optimal Solution\n",
            "Normal 300.0\n",
            "Heavy-duty 775.0\n",
            "Profit 73125.0\n"
          ]
        }
      ],
      "source": [
        "# Your code goes here\n",
        "\n",
        "# Step 1\n",
        "prob = LpProblem (\"Maximize_Profits\", LpMaximize)\n",
        "#identify the decision variable\n",
        "x1 = LpVariable (\"Normal\", lowBound=0, cat=\"integer\")\n",
        "x2 = LpVariable (\"Heavy-duty\", lowBound=0, cat=\"integer\")\n",
        "\n",
        "# Step 3 objective function\n",
        "prob += 50*x1 + 75*x2, \"Maximize_Profits\"\n",
        "\n",
        "# Step 4 Define the constraints\n",
        "prob += 3.6*x1 + 4.8*x2 <= 4800, \"Assembly Constraints\"\n",
        "\n",
        "prob += 1.6*x1 + 1.8*x2 <= 1980, \"Painting Constraints\"\n",
        "prob += 0.6*x1 + 0.6*x2 <= 900, \"Testing Constraints\"\n",
        "\n",
        "prob += x1 >= 300, \"Normal Constraint\"\n",
        "prob += x2 >= 180, \"Heavy Duty Constraint\"\n",
        "\n",
        "prob.solve ()\n",
        "\n",
        "print (\"Optimal Solution\")\n",
        "print (\"Normal\", x1.varValue)\n",
        "print (\"Heavy-duty\", x2.varValue)\n",
        "print (\"Profit\", prob.objective.value())\n",
        "\n"
      ]
    },
    {
      "cell_type": "markdown",
      "metadata": {
        "id": "SwrmhQ7QaiOq"
      },
      "source": [
        "## Problem 2\n",
        " A company is interested in developing a fertilizer that contains a minimum of 100 units of potassium, 25 units of nitrogen, and 10 units of ammonia. For this purpose, they have products A and B, which cost 10 and 15 euros per ton in the market, respectively. The content of potassium, nitrogen, and ammonia per ton of product is shown in the following table.\n",
        "\n"
      ]
    },
    {
      "cell_type": "markdown",
      "metadata": {
        "id": "JApLJAOiaiOq"
      },
      "source": [
        "|      | POTASSIUM | NITROGEN | AMMONIA |\n",
        "|---------|------------|----------|---------|\n",
        "| Product A |      2       |      0.3     |     0.2    |\n",
        "| Product B |      1       |      0.6     |     0.2    |\n"
      ]
    },
    {
      "cell_type": "code",
      "execution_count": null,
      "metadata": {
        "id": "Fk1MXX8zaiOr",
        "outputId": "b38ec52b-60cd-4653-bb76-ac7cc5290b87",
        "colab": {
          "base_uri": "https://localhost:8080/"
        }
      },
      "outputs": [
        {
          "output_type": "stream",
          "name": "stdout",
          "text": [
            "They need to produce this many tons of the products to ensure each has the units required\n",
            "Pa 77.777778\n",
            "Pb 44.444444\n",
            "Cost 1444.44444\n"
          ]
        }
      ],
      "source": [
        "# Your code goes here\n",
        "#They are looking to know how much of the 2 product they have to do in order to reach the minimum\n",
        "\n",
        "#Step 1\n",
        "prob = LpProblem (\"Production\", LpMaximize)\n",
        "\n",
        "#Step 2\n",
        "a = LpVariable (\"Pa\", lowBound=0, cat=\"integer\")\n",
        "b = LpVariable (\"Pb\", lowBound=0, cat=\"integer\")\n",
        "\n",
        "#Step 3\n",
        "prob += 10*a +15*b, \"Production\"\n",
        "\n",
        "#Step 4\n",
        "prob += 2*a + 1*b >=200, \"Patassium Constraints\"\n",
        "prob += 0.3*a + 0.6*b >=50, \"Nitrogen Constraints\"\n",
        "prob += 0.2*a + 0.2*b >=20, \"Ammonia Constraints\"\n",
        "\n",
        "prob += a <=10, \"Pa Constraint\"\n",
        "prob += b <= 15, \"Pb Constraint\"\n",
        "\n",
        "prob.solve()\n",
        "\n",
        "print (\"They need to produce this many tons of the products to ensure each has the units required\")\n",
        "print (\"Pa\", a.varValue)\n",
        "print (\"Pb\", b.varValue)\n",
        "print (\"Cost\", prob.objective.value ())\n"
      ]
    },
    {
      "cell_type": "markdown",
      "metadata": {
        "id": "cFabsV-YaiOr"
      },
      "source": [
        "## Problem 3\n",
        "A bakery is famous for its two specialties: the imperial cake and the lime cake. The imperial cake requires half a kilogram of sugar and eight eggs, and it is sold for eight dollars. The lime cake requires one kilogram of sugar and eight eggs, and it is sold for ten dollars. In the warehouse, there are only ten kilograms of sugar and one hundred twenty eggs. What combination of these specialties can be made?"
      ]
    },
    {
      "cell_type": "markdown",
      "metadata": {
        "id": "PdhkIINsaiOr"
      },
      "source": [
        "|            | Sugar (kilogram) | Eggs | Price |\n",
        "|------------|-----------------|------|-------|\n",
        "| Imperial Cake |      0.5        |   8   |  $ 8   |\n",
        "| Lime Cake   |        1          |   8   | $ 10  |\n"
      ]
    },
    {
      "cell_type": "code",
      "execution_count": null,
      "metadata": {
        "id": "Bpsd7bkCaiOs",
        "outputId": "cf6acdd5-fc91-4c06-b712-2ff0bd174f48",
        "colab": {
          "base_uri": "https://localhost:8080/"
        }
      },
      "outputs": [
        {
          "output_type": "stream",
          "name": "stdout",
          "text": [
            "Optimal Solution\n",
            "Imperial 10.0\n",
            "Lime 5.0\n",
            "Profit 130.0\n"
          ]
        }
      ],
      "source": [
        "# Your code goes here\n",
        "\n",
        "#Step 1\n",
        "prob =LpProblem (\"Maximize_Production\", LpMaximize)\n",
        "\n",
        "#Step 2\n",
        "x1 = LpVariable (\"Imperial\", lowBound=0, cat=\"integer\")\n",
        "x2 = LpVariable (\"Lime\", lowBound=0, cat=\"integer\")\n",
        "\n",
        "#Step 3\n",
        "prob += 8*x1 + 10*x2, \"Maximize_Production\"\n",
        "\n",
        "#Step 4\n",
        "prob += 0.5*x1 + 1*x2 <=10, \"Sugar Constraints\"\n",
        "prob += 8*x1 + 8*x2 <=120, \"Eggs Constraints\"\n",
        "\n",
        "prob.solve ()\n",
        "\n",
        "print (\"Optimal Solution\")\n",
        "print (\"Imperial\", x1.varValue)\n",
        "print (\"Lime\", x2.varValue)\n",
        "print (\"Profit\", prob.objective.value())\n",
        "\n",
        "\n"
      ]
    }
  ],
  "metadata": {
    "language_info": {
      "name": "python"
    },
    "orig_nbformat": 4,
    "colab": {
      "provenance": [],
      "include_colab_link": true
    },
    "kernelspec": {
      "name": "python3",
      "display_name": "Python 3"
    },
    "gpuClass": "standard"
  },
  "nbformat": 4,
  "nbformat_minor": 0
}